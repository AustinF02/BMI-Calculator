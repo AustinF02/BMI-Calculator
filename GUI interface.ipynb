{
 "cells": [
  {
   "cell_type": "markdown",
   "id": "a9fb4e87",
   "metadata": {},
   "source": [
    "## BMI GUI interface"
   ]
  },
  {
   "cell_type": "code",
   "execution_count": 13,
   "id": "b65a994d",
   "metadata": {},
   "outputs": [
    {
     "data": {
      "text/plain": [
       "0"
      ]
     },
     "execution_count": 13,
     "metadata": {},
     "output_type": "execute_result"
    }
   ],
   "source": [
    "#convert .ui to .py file\n",
    "import os \n",
    "os.system(\"pyuic5 -o bmi_cal.py bmi_cal.ui\")"
   ]
  },
  {
   "cell_type": "code",
   "execution_count": 20,
   "id": "ac30d5a6",
   "metadata": {},
   "outputs": [
    {
     "ename": "ValueError",
     "evalue": "could not convert string to float: 'rgrs'",
     "output_type": "error",
     "traceback": [
      "\u001b[0;31m---------------------------------------------------------------------------\u001b[0m",
      "\u001b[0;31mValueError\u001b[0m                                Traceback (most recent call last)",
      "Input \u001b[0;32mIn [20]\u001b[0m, in \u001b[0;36mBMI_Calculator.press_it\u001b[0;34m(self)\u001b[0m\n\u001b[1;32m     32\u001b[0m \u001b[38;5;28;01melse\u001b[39;00m:\n\u001b[1;32m     33\u001b[0m     weight \u001b[38;5;241m=\u001b[39m \u001b[38;5;28mfloat\u001b[39m(\u001b[38;5;28mself\u001b[39m\u001b[38;5;241m.\u001b[39muif\u001b[38;5;241m.\u001b[39mweightinput\u001b[38;5;241m.\u001b[39mtext())\n\u001b[0;32m---> 34\u001b[0m     height \u001b[38;5;241m=\u001b[39m \u001b[38;5;28;43mfloat\u001b[39;49m\u001b[43m(\u001b[49m\u001b[38;5;28;43mself\u001b[39;49m\u001b[38;5;241;43m.\u001b[39;49m\u001b[43muif\u001b[49m\u001b[38;5;241;43m.\u001b[39;49m\u001b[43mheightinput\u001b[49m\u001b[38;5;241;43m.\u001b[39;49m\u001b[43mtext\u001b[49m\u001b[43m(\u001b[49m\u001b[43m)\u001b[49m\u001b[43m)\u001b[49m\u001b[38;5;241m*\u001b[39m\u001b[38;5;241m12\u001b[39m\n\u001b[1;32m     35\u001b[0m     \u001b[38;5;28;01mif\u001b[39;00m ((weight \u001b[38;5;241m/\u001b[39m (height \u001b[38;5;241m*\u001b[39m\u001b[38;5;241m*\u001b[39m\u001b[38;5;241m2\u001b[39m) \u001b[38;5;241m*\u001b[39m \u001b[38;5;241m703\u001b[39m)) \u001b[38;5;241m<\u001b[39m \u001b[38;5;241m18.5\u001b[39m:\n\u001b[1;32m     37\u001b[0m         qtw\u001b[38;5;241m.\u001b[39mQMessageBox\u001b[38;5;241m.\u001b[39minformation(\u001b[38;5;28mself\u001b[39m, \u001b[38;5;124m'\u001b[39m\u001b[38;5;124mResult\u001b[39m\u001b[38;5;124m'\u001b[39m, \u001b[38;5;124m\"\u001b[39m\u001b[38;5;124mYour BMI is: \u001b[39m\u001b[38;5;124m\"\u001b[39m \u001b[38;5;241m+\u001b[39m \u001b[38;5;28mstr\u001b[39m(\u001b[38;5;124m'\u001b[39m\u001b[38;5;132;01m%.2f\u001b[39;00m\u001b[38;5;124m'\u001b[39m \u001b[38;5;241m%\u001b[39m(weight \u001b[38;5;241m/\u001b[39m (height \u001b[38;5;241m*\u001b[39m\u001b[38;5;241m*\u001b[39m\u001b[38;5;241m2\u001b[39m) \u001b[38;5;241m*\u001b[39m \u001b[38;5;241m703\u001b[39m)) \u001b[38;5;241m+\u001b[39m \u001b[38;5;124m\"\u001b[39m\u001b[38;5;130;01m\\n\u001b[39;00m\u001b[38;5;124mYou\u001b[39m\u001b[38;5;124m'\u001b[39m\u001b[38;5;124mre in Underweight range.\u001b[39m\u001b[38;5;124m\"\u001b[39m, qtw\u001b[38;5;241m.\u001b[39mQMessageBox\u001b[38;5;241m.\u001b[39mOk)\n",
      "\u001b[0;31mValueError\u001b[0m: could not convert string to float: 'rgrs'"
     ]
    },
    {
     "ename": "ValueError",
     "evalue": "could not convert string to float: 'fesf'",
     "output_type": "error",
     "traceback": [
      "\u001b[0;31m---------------------------------------------------------------------------\u001b[0m",
      "\u001b[0;31mValueError\u001b[0m                                Traceback (most recent call last)",
      "Input \u001b[0;32mIn [20]\u001b[0m, in \u001b[0;36mBMI_Calculator.press_it\u001b[0;34m(self)\u001b[0m\n\u001b[1;32m     31\u001b[0m     qtw\u001b[38;5;241m.\u001b[39mQMessageBox\u001b[38;5;241m.\u001b[39mwarning(\u001b[38;5;28mself\u001b[39m, \u001b[38;5;124m\"\u001b[39m\u001b[38;5;124mOops...No Height value!\u001b[39m\u001b[38;5;124m\"\u001b[39m,\u001b[38;5;124m\"\u001b[39m\u001b[38;5;124m Please enter your height!\u001b[39m\u001b[38;5;124m\"\u001b[39m, qtw\u001b[38;5;241m.\u001b[39mQMessageBox\u001b[38;5;241m.\u001b[39mOk)\n\u001b[1;32m     32\u001b[0m \u001b[38;5;28;01melse\u001b[39;00m:\n\u001b[0;32m---> 33\u001b[0m     weight \u001b[38;5;241m=\u001b[39m \u001b[38;5;28;43mfloat\u001b[39;49m\u001b[43m(\u001b[49m\u001b[38;5;28;43mself\u001b[39;49m\u001b[38;5;241;43m.\u001b[39;49m\u001b[43muif\u001b[49m\u001b[38;5;241;43m.\u001b[39;49m\u001b[43mweightinput\u001b[49m\u001b[38;5;241;43m.\u001b[39;49m\u001b[43mtext\u001b[49m\u001b[43m(\u001b[49m\u001b[43m)\u001b[49m\u001b[43m)\u001b[49m\n\u001b[1;32m     34\u001b[0m     height \u001b[38;5;241m=\u001b[39m \u001b[38;5;28mfloat\u001b[39m(\u001b[38;5;28mself\u001b[39m\u001b[38;5;241m.\u001b[39muif\u001b[38;5;241m.\u001b[39mheightinput\u001b[38;5;241m.\u001b[39mtext())\u001b[38;5;241m*\u001b[39m\u001b[38;5;241m12\u001b[39m\n\u001b[1;32m     35\u001b[0m     \u001b[38;5;28;01mif\u001b[39;00m ((weight \u001b[38;5;241m/\u001b[39m (height \u001b[38;5;241m*\u001b[39m\u001b[38;5;241m*\u001b[39m\u001b[38;5;241m2\u001b[39m) \u001b[38;5;241m*\u001b[39m \u001b[38;5;241m703\u001b[39m)) \u001b[38;5;241m<\u001b[39m \u001b[38;5;241m18.5\u001b[39m:\n",
      "\u001b[0;31mValueError\u001b[0m: could not convert string to float: 'fesf'"
     ]
    }
   ],
   "source": [
    "#This program import ui and create bmi calculator!!\n",
    "from PyQt5 import QtWidgets as qtw\n",
    "from bmi_cal import Ui_Dialog\n",
    "from PyQt5 import QtCore, QtGui, uic\n",
    "import sys\n",
    "\n",
    "#set ui from the ui creator file\n",
    "class BMI_Calculator(qtw.QMainWindow):\n",
    "    def __init__(self):\n",
    "        super(BMI_Calculator, self).__init__()\n",
    "        self.uif=Ui_Dialog()\n",
    "        self.uif.setupUi(self)\n",
    "        self.uif.pushButton.pressed.connect(self.press_it)\n",
    "        self.uif.exitButton.pressed.connect(self.close)\n",
    "\n",
    "#set function of the button           \n",
    "    def press_it(self):\n",
    "        try:\n",
    "            weight = float(self.uif.weightinput.text())\n",
    "            height = float(self.uif.heightinput.text())\n",
    "        except ValueError:\n",
    "            qtw.QMessageBox.warning(self,'Oops...No value!', \"Please enter numbers!\"+\"\\n Come on! \", qtw.QMessageBox.Ok)\n",
    "\n",
    "        if str(self.uif.weightinput.text()) ==\"\" and str(self.uif.heightinput.text()) ==\"\":\n",
    "            qtw.QMessageBox.warning(self, 'Oops...No value!', \"Please enter again! \", qtw.QMessageBox.Ok)\n",
    "\n",
    "        elif str(self.uif.weightinput.text()) ==\"\" and str(self.uif.heightinput.text()) !=\"\":            \n",
    "            qtw.QMessageBox.warning(self, 'Oops...No Weight value!', \"Please enter your weight! \", qtw.QMessageBox.Ok)\n",
    "\n",
    "        elif str(self.uif.heightinput.text()) ==\"\" and str(self.uif.weightinput.text()) !=\"\":            \n",
    "            qtw.QMessageBox.warning(self, \"Oops...No Height value!\",\" Please enter your height!\", qtw.QMessageBox.Ok)\n",
    "        else:\n",
    "            weight = float(self.uif.weightinput.text())\n",
    "            height = float(self.uif.heightinput.text())*12\n",
    "            if ((weight / (height **2) * 703)) < 18.5:\n",
    "\n",
    "                qtw.QMessageBox.information(self, 'Result', \"Your BMI is: \" + str('%.2f' %(weight / (height **2) * 703)) + \"\\nYou're in Underweight range.\", qtw.QMessageBox.Ok)\n",
    "\n",
    "            \n",
    "            elif ((weight / (height **2) * 703)) < 25 and ((weight / (height **2) * 703)) >= 18.5:\n",
    "                \n",
    "                qtw.QMessageBox.information(self, 'Result', \"Your BMI is: \" + str('%.2f' %(weight / (height **2) * 703)) + \"\\nYou're in Healthy weight range.\", qtw.QMessageBox.Ok)\n",
    "\n",
    "\n",
    "            elif ((weight / (height **2) * 703)) < 30 and ((weight / (height **2) * 703)) >= 25:\n",
    "                \n",
    "                qtw.QMessageBox.information(self, 'Result', \"Your BMI is: \" + str('%.2f' %(weight / (height **2) * 703)) + \"\\nYou're in Overweight range.\", qtw.QMessageBox.Ok)\n",
    "\n",
    "            else:\n",
    "                qtw.QMessageBox.information(self, 'Result', \"Your BMI is: \" + str('%.2f' %(weight / (height **2) * 703)) + \"\\nYou're in Obesity range.\", qtw.QMessageBox.Ok)\n",
    "                \n",
    "        \n",
    "app = qtw.QApplication(sys.argv)\n",
    "bmic = BMI_Calculator()\n",
    "bmic.show()\n",
    "app.exec_()\n",
    "del app"
   ]
  }
 ],
 "metadata": {
  "kernelspec": {
   "display_name": "Python 3 (ipykernel)",
   "language": "python",
   "name": "python3"
  },
  "language_info": {
   "codemirror_mode": {
    "name": "ipython",
    "version": 3
   },
   "file_extension": ".py",
   "mimetype": "text/x-python",
   "name": "python",
   "nbconvert_exporter": "python",
   "pygments_lexer": "ipython3",
   "version": "3.9.12"
  }
 },
 "nbformat": 4,
 "nbformat_minor": 5
}
