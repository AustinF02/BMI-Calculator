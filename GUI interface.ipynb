
   ],
   "source": [
    "#convert ui to py file\n",
    "import os \n",
    "os.system(\"pyuic5 -o bmi_cal.py bmi_cal.ui\")"
   ]
  },
  {
   "cell_type": "code",
   "execution_count": 3,
   "id": "ac30d5a6",
   "metadata": {},
   "outputs": [],
   "source": [
    "#This program import ui and create bmi calculator!!\n",
    "from PyQt5 import QtWidgets as qtw\n",
    "from bmi_cal import Ui_Dialog\n",
    "from PyQt5 import QtCore, QtGui, uic\n",
    "import sys\n",
    "\n",
    "class BMI_Calculator(qtw.QMainWindow):\n",
    "    def __init__(self):\n",
    "        super(BMI_Calculator, self).__init__()\n",
    "        self.uif=Ui_Dialog()\n",
    "        self.uif.setupUi(self)\n",
    "        self.uif.pushButton.pressed.connect(self.press_it)\n",
    "        self.uif.exitButton.pressed.connect(self.close)\n",
    "\n",
    "            \n",
    "    def press_it(self):  \n",
    "        if str(self.uif.weightinput.text()) ==\"\" and str(self.heightinput.text()) ==\"\":\n",
    "            QMessageBox.warning(self, 'Oops...No value!', \"Please enter again! \", QMessageBox.Ok)\n",
    "\n",
    "        elif str(self.uif.weightinput.text()) ==\"\" and str(self.heightinput.text()) !=\"\":            \n",
    "            QMessageBox.warning(self, 'Oops...No Weight value!', \"You didn't enter your weight! \", QMessageBox.Ok)\n",
    "\n",
    "        elif str(self.uif.heightinput.text()) ==\"\" and str(self.weightinput.text()) !=\"\":            \n",
    "            QMessageBox.warning(self, 'Oops...No Height value!', \"You didn't enter your height! \", QMessageBox.Ok)\n",
    "       \n",
    "        else:\n",
    "            weight = float(self.uif.weightinput.text())\n",
    "            height = float(self.uif.heightinput.text())*12\n",
    "            if ((weight / (height **2) * 703)) < 18.5:\n",
    "\n",
    "                qtw.QMessageBox.information(self, 'Result', \"Your BMI is: \" + str('%.2f' %(weight / (height **2) * 703)) + \"\\n Underweight\", qtw.QMessageBox.Ok)\n",
    "\n",
    "            \n",
    "            elif ((weight / (height **2) * 703)) < 25 and ((weight / (height **2) * 703)) >= 18.5:\n",
    "                \n",
    "                qtw.QMessageBox.information(self, 'Result', \"Your BMI is: \" + str('%.2f' %(weight / (height **2) * 703)) + \"\\n Healthy weight\", qtw.QMessageBox.Ok)\n",
    "\n",
    "\n",
    "            elif ((weight / (height **2) * 703)) < 30 and ((weight / (height **2) * 703)) >= 25:\n",
    "                \n",
    "                qtw.QMessageBox.information(self, 'Result', \"Your BMI is: \" + str('%.2f' %(weight / (height **2) * 703)) + \"\\n Overweight\", qtw.QMessageBox.Ok)\n",
    "\n",
    "            else:\n",
    "                qtw.QMessageBox.information(self, 'Result', \"Your BMI is: \" + str('%.2f' %(weight / (height **2) * 703)) + \"\\n Obesity\", qtw.QMessageBox.Ok)\n",
    "                \n",
    "        \n",
    "app = qtw.QApplication(sys.argv)\n",
    "bmic = BMI_Calculator()\n",
    "bmic.show()\n",
    "app.exec_()\n",
    "del app"
   ]
  }
 ],
 "metadata": {
  "kernelspec": {
   "display_name": "Python 3 (ipykernel)",
   "language": "python",
   "name": "python3"
  },
  "language_info": {
   "codemirror_mode": {
    "name": "ipython",
    "version": 3
   },
   "file_extension": ".py",
   "mimetype": "text/x-python",
   "name": "python",
   "nbconvert_exporter": "python",
   "pygments_lexer": "ipython3",
   "version": "3.9.12"
  }
 },
 "nbformat": 4,
 "nbformat_minor": 5
}
