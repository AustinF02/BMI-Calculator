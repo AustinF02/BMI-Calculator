{
 "cells": [
  {
   "cell_type": "markdown",
   "id": "a9fb4e87",
   "metadata": {},
   "source": [
    "## BMI GUI interface"
   ]
  },
  {
   "cell_type": "code",
   "execution_count": 13,
   "id": "b65a994d",
   "metadata": {},
   "outputs": [
    {
     "data": {
      "text/plain": [
       "0"
      ]
     },
     "execution_count": 13,
     "metadata": {},
     "output_type": "execute_result"
    }
   ],
   "source": [
    "#convert .ui to .py file\n",
    "import os \n",
    "os.system(\"pyuic5 -o bmi_cal.py bmi_cal.ui\")"
   ]
  },
  {
   "cell_type": "code",
   "execution_count": 2,
   "id": "ac30d5a6",
   "metadata": {},
   "outputs": [],
   "source": [
    "#This program import ui and create bmi calculator!!\n",
    "from PyQt5 import QtWidgets as qtw\n",
    "from bmi_cal import Ui_Dialog\n",
    "from PyQt5 import QtCore, QtGui, uic\n",
    "import sys\n",
    "\n",
    "#set ui from the ui creator file\n",
    "class BMI_Calculator(qtw.QMainWindow):\n",
    "    def __init__(self):\n",
    "        super(BMI_Calculator, self).__init__()\n",
    "        self.uif=Ui_Dialog()\n",
    "        self.uif.setupUi(self)\n",
    "        self.uif.pushButton.pressed.connect(self.press_it)\n",
    "        self.uif.exitButton.pressed.connect(self.close)\n",
    "\n",
    "#set function of the button           \n",
    "    def press_it(self):\n",
    "        try:\n",
    "            weight = float(self.uif.weightinput.text())\n",
    "            height = float(self.uif.heightinput.text())\n",
    "        except ValueError:\n",
    "            qtw.QMessageBox.warning(self,'Oops...No value!', \"Please enter numbers!\"+\"\\n Come on! \", qtw.QMessageBox.Ok)\n",
    "\n",
    "        if str(self.uif.weightinput.text()) ==\"\" and str(self.uif.heightinput.text()) ==\"\":\n",
    "            qtw.QMessageBox.warning(self, 'Oops...No value!', \"Please enter again! \", qtw.QMessageBox.Ok)\n",
    "\n",
    "        elif str(self.uif.weightinput.text()) ==\"\" and str(self.uif.heightinput.text()) !=\"\":            \n",
    "            qtw.QMessageBox.warning(self, 'Oops...No Weight value!', \"Please enter your weight! \", qtw.QMessageBox.Ok)\n",
    "\n",
    "        elif str(self.uif.heightinput.text()) ==\"\" and str(self.uif.weightinput.text()) !=\"\":            \n",
    "            qtw.QMessageBox.warning(self, \"Oops...No Height value!\",\" Please enter your height!\", qtw.QMessageBox.Ok)\n",
    "        else:\n",
    "            weight = float(self.uif.weightinput.text())\n",
    "            height = float(self.uif.heightinput.text())*12\n",
    "            if ((weight / (height **2) * 703)) < 18.5:\n",
    "\n",
    "                qtw.QMessageBox.information(self, 'Result', \"Your BMI is: \" + str('%.2f' %(weight / (height **2) * 703)) + \"\\nYou're in Underweight range.\", qtw.QMessageBox.Ok)\n",
    "\n",
    "            \n",
    "            elif ((weight / (height **2) * 703)) < 25 and ((weight / (height **2) * 703)) >= 18.5:\n",
    "                \n",
    "                qtw.QMessageBox.information(self, 'Result', \"Your BMI is: \" + str('%.2f' %(weight / (height **2) * 703)) + \"\\nYou're in Healthy weight range.\", qtw.QMessageBox.Ok)\n",
    "\n",
    "\n",
    "            elif ((weight / (height **2) * 703)) < 30 and ((weight / (height **2) * 703)) >= 25:\n",
    "                \n",
    "                qtw.QMessageBox.information(self, 'Result', \"Your BMI is: \" + str('%.2f' %(weight / (height **2) * 703)) + \"\\nYou're in Overweight range.\", qtw.QMessageBox.Ok)\n",
    "\n",
    "            else:\n",
    "                qtw.QMessageBox.information(self, 'Result', \"Your BMI is: \" + str('%.2f' %(weight / (height **2) * 703)) + \"\\nYou're in Obesity range.\", qtw.QMessageBox.Ok)\n",
    "                \n",
    "        \n",
    "app = qtw.QApplication(sys.argv)\n",
    "bmic = BMI_Calculator()\n",
    "bmic.show()\n",
    "app.exec_()\n",
    "del app"
   ]
  }
 ],
 "metadata": {
  "kernelspec": {
   "display_name": "Python 3 (ipykernel)",
   "language": "python",
   "name": "python3"
  },
  "language_info": {
   "codemirror_mode": {
    "name": "ipython",
    "version": 3
   },
   "file_extension": ".py",
   "mimetype": "text/x-python",
   "name": "python",
   "nbconvert_exporter": "python",
   "pygments_lexer": "ipython3",
   "version": "3.9.12"
  }
 },
 "nbformat": 4,
 "nbformat_minor": 5
}
